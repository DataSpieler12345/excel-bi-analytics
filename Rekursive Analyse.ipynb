{
 "cells": [
  {
   "cell_type": "markdown",
   "id": "8c9e82cf",
   "metadata": {},
   "source": [
    "## Ü: Rekursive Analyse  \n",
    "    \n",
    "Ihnen steht die nachfolgende Python-Funktion zur Verfügung: "
   ]
  },
  {
   "cell_type": "code",
   "execution_count": 2,
   "id": "e2fdaef6",
   "metadata": {},
   "outputs": [],
   "source": [
    "def bunnyEars(bunnies:int): \n",
    "    if bunnies == 0:              \n",
    "        return 0      \n",
    "    return 2 + bunnyEars(bunnies-1) "
   ]
  },
  {
   "cell_type": "markdown",
   "id": "63efc5dc",
   "metadata": {},
   "source": [
    "### a) Rekursive Analyse "
   ]
  },
  {
   "cell_type": "code",
   "execution_count": 3,
   "id": "b51ce37c",
   "metadata": {},
   "outputs": [
    {
     "data": {
      "text/plain": [
       "8"
      ]
     },
     "execution_count": 3,
     "metadata": {},
     "output_type": "execute_result"
    }
   ],
   "source": [
    "#4\n",
    "bunnyEars(4)"
   ]
  },
  {
   "cell_type": "code",
   "execution_count": 6,
   "id": "87961558",
   "metadata": {},
   "outputs": [
    {
     "data": {
      "text/plain": [
       "2"
      ]
     },
     "execution_count": 6,
     "metadata": {},
     "output_type": "execute_result"
    }
   ],
   "source": [
    "bunnyEars(1)"
   ]
  },
  {
   "cell_type": "code",
   "execution_count": 4,
   "id": "9e1e8062",
   "metadata": {},
   "outputs": [
    {
     "data": {
      "text/plain": [
       "4"
      ]
     },
     "execution_count": 4,
     "metadata": {},
     "output_type": "execute_result"
    }
   ],
   "source": [
    "#2\n",
    "bunnyEars(2)"
   ]
  },
  {
   "cell_type": "code",
   "execution_count": 5,
   "id": "8f0f0b5a",
   "metadata": {},
   "outputs": [
    {
     "data": {
      "text/plain": [
       "2"
      ]
     },
     "execution_count": 5,
     "metadata": {},
     "output_type": "execute_result"
    }
   ],
   "source": [
    "#1\n",
    "bunnyEars(1)"
   ]
  },
  {
   "cell_type": "markdown",
   "id": "45ed7ec9",
   "metadata": {},
   "source": [
    "Wie viele Stackframes werden durch den Aufruf erzeugt?"
   ]
  },
  {
   "cell_type": "code",
   "execution_count": null,
   "id": "ef27042f",
   "metadata": {},
   "outputs": [],
   "source": [
    "# unter Berücksichtigung der Tatsache, dass Null die Position Nummer 1 ist\n",
    "\n",
    "# bunnyEars(9) = 10 times\n",
    "\n",
    "# bunnyEars(4) = 5 times\n",
    "# bunnyEars(2) = 3 times\n",
    "# bunnyEars(1) = 2 times"
   ]
  },
  {
   "cell_type": "markdown",
   "id": "3f9e9f8b",
   "metadata": {},
   "source": [
    "#### Beispiel"
   ]
  },
  {
   "cell_type": "code",
   "execution_count": 7,
   "id": "8b241bba",
   "metadata": {},
   "outputs": [],
   "source": [
    "# Create a list of 10 numbers\n",
    "numbers = [1, 2, 3, 4, 5, 6, 7, 8, 9, 10]"
   ]
  },
  {
   "cell_type": "code",
   "execution_count": 8,
   "id": "cc28f091",
   "metadata": {},
   "outputs": [],
   "source": [
    "# Select from the first to the last element\n",
    "selection = numbers[0:len(numbers)]"
   ]
  },
  {
   "cell_type": "code",
   "execution_count": 9,
   "id": "efee2414",
   "metadata": {},
   "outputs": [
    {
     "name": "stdout",
     "output_type": "stream",
     "text": [
      "[1, 2, 3, 4, 5, 6, 7, 8, 9, 10]\n"
     ]
    }
   ],
   "source": [
    "# print out the selection\n",
    "print(selection)"
   ]
  },
  {
   "cell_type": "code",
   "execution_count": 20,
   "id": "83e2eaff",
   "metadata": {},
   "outputs": [
    {
     "data": {
      "text/plain": [
       "1"
      ]
     },
     "execution_count": 20,
     "metadata": {},
     "output_type": "execute_result"
    }
   ],
   "source": [
    "#select the first elemento of the list\n",
    "numbers[0]"
   ]
  },
  {
   "cell_type": "code",
   "execution_count": 21,
   "id": "272769c6",
   "metadata": {},
   "outputs": [
    {
     "data": {
      "text/plain": [
       "2"
      ]
     },
     "execution_count": 21,
     "metadata": {},
     "output_type": "execute_result"
    }
   ],
   "source": [
    "numbers[1]"
   ]
  },
  {
   "cell_type": "code",
   "execution_count": 22,
   "id": "a72838fb",
   "metadata": {},
   "outputs": [
    {
     "data": {
      "text/plain": [
       "3"
      ]
     },
     "execution_count": 22,
     "metadata": {},
     "output_type": "execute_result"
    }
   ],
   "source": [
    "numbers[2]"
   ]
  },
  {
   "cell_type": "code",
   "execution_count": 23,
   "id": "6da6197c",
   "metadata": {},
   "outputs": [
    {
     "data": {
      "text/plain": [
       "4"
      ]
     },
     "execution_count": 23,
     "metadata": {},
     "output_type": "execute_result"
    }
   ],
   "source": [
    "numbers[3]"
   ]
  },
  {
   "cell_type": "code",
   "execution_count": 24,
   "id": "e3f5704c",
   "metadata": {},
   "outputs": [
    {
     "data": {
      "text/plain": [
       "5"
      ]
     },
     "execution_count": 24,
     "metadata": {},
     "output_type": "execute_result"
    }
   ],
   "source": [
    "numbers[4]"
   ]
  },
  {
   "cell_type": "code",
   "execution_count": 25,
   "id": "10888f91",
   "metadata": {},
   "outputs": [
    {
     "data": {
      "text/plain": [
       "6"
      ]
     },
     "execution_count": 25,
     "metadata": {},
     "output_type": "execute_result"
    }
   ],
   "source": [
    "numbers[5]"
   ]
  },
  {
   "cell_type": "code",
   "execution_count": 26,
   "id": "f0ff5038",
   "metadata": {},
   "outputs": [
    {
     "data": {
      "text/plain": [
       "7"
      ]
     },
     "execution_count": 26,
     "metadata": {},
     "output_type": "execute_result"
    }
   ],
   "source": [
    "numbers[6]"
   ]
  },
  {
   "cell_type": "code",
   "execution_count": 27,
   "id": "5a6c06e4",
   "metadata": {},
   "outputs": [
    {
     "data": {
      "text/plain": [
       "8"
      ]
     },
     "execution_count": 27,
     "metadata": {},
     "output_type": "execute_result"
    }
   ],
   "source": [
    "numbers[7]"
   ]
  },
  {
   "cell_type": "code",
   "execution_count": 28,
   "id": "8bd3e114",
   "metadata": {},
   "outputs": [
    {
     "data": {
      "text/plain": [
       "9"
      ]
     },
     "execution_count": 28,
     "metadata": {},
     "output_type": "execute_result"
    }
   ],
   "source": [
    "numbers[8]"
   ]
  },
  {
   "cell_type": "code",
   "execution_count": 29,
   "id": "8f0df73c",
   "metadata": {},
   "outputs": [
    {
     "data": {
      "text/plain": [
       "10"
      ]
     },
     "execution_count": 29,
     "metadata": {},
     "output_type": "execute_result"
    }
   ],
   "source": [
    "numbers[9]"
   ]
  },
  {
   "cell_type": "markdown",
   "id": "4c765da1",
   "metadata": {},
   "source": [
    "### b) Übertragen Sie den Rekursiven Algorithmus in einen Iterativen Algorithmus: "
   ]
  },
  {
   "cell_type": "markdown",
   "id": "67a3b403",
   "metadata": {},
   "source": [
    "### Notiz: \n",
    "\n",
    "Die while-Schleifen werden verwendet, um einen Codeblock zu wiederholen, solange eine bestimmte Bedingung erfüllt ist. "
   ]
  },
  {
   "cell_type": "code",
   "execution_count": 31,
   "id": "691beeb0",
   "metadata": {},
   "outputs": [],
   "source": [
    "def bunnyEars_iterativ(bunnies:int):\n",
    "    ears = 0\n",
    "    while(bunnies > 0):\n",
    "        ears = ears + 2         \n",
    "        bunnies = bunnies - 1              \n",
    "        return ears "
   ]
  },
  {
   "cell_type": "code",
   "execution_count": 32,
   "id": "ca70d8df",
   "metadata": {},
   "outputs": [
    {
     "name": "stdout",
     "output_type": "stream",
     "text": [
      "2\n",
      "2\n",
      "2\n"
     ]
    }
   ],
   "source": [
    "# Test the function with different inputs\n",
    "print(bunnyEars_iterativ(4))  # Output: 4\n",
    "print(bunnyEars_iterativ(2))  # Output: 2\n",
    "print(bunnyEars_iterativ(1))  # Output: 1"
   ]
  },
  {
   "cell_type": "markdown",
   "id": "a215686b",
   "metadata": {},
   "source": [
    "### Notiz: \n",
    "\n",
    "Das Ergebnis dieser while-Schleife wird immer 2 sein, unabhängig vom anfänglichen Wert von bunnies. Dies liegt daran, dass die return-Anweisung innerhalb der Schleife steht, was dazu führt, dass die Schleife nur einmal durchlaufen wird und dann endet.\n",
    "\n",
    "Wenn die Schleife zum ersten Mal durchlaufen wird, wird ears um 2 erhöht und bunnies um 1 verringert. Anschließend wird die return-Anweisung erreicht, was bedeutet, dass der aktuelle Wert von ears zurückgegeben wird und die Funktion bunnyEars_iterativ() endet.\n",
    "\n",
    "Da die return-Anweisung innerhalb der Schleife steht, wird die Schleife nur einmal durchlaufen und der aktualisierte Wert von ears zurückgegeben. Daher wird das Ergebnis immer 2 sein, unabhängig vom anfänglichen Wert von bunnies."
   ]
  },
  {
   "cell_type": "code",
   "execution_count": null,
   "id": "6b0bb819",
   "metadata": {},
   "outputs": [],
   "source": [
    "#individual"
   ]
  },
  {
   "cell_type": "code",
   "execution_count": 33,
   "id": "363b8d29",
   "metadata": {},
   "outputs": [
    {
     "data": {
      "text/plain": [
       "2"
      ]
     },
     "execution_count": 33,
     "metadata": {},
     "output_type": "execute_result"
    }
   ],
   "source": [
    "bunnyEars_iterativ(4)"
   ]
  },
  {
   "cell_type": "code",
   "execution_count": 34,
   "id": "bcc5086b",
   "metadata": {},
   "outputs": [
    {
     "data": {
      "text/plain": [
       "2"
      ]
     },
     "execution_count": 34,
     "metadata": {},
     "output_type": "execute_result"
    }
   ],
   "source": [
    "bunnyEars_iterativ(3)"
   ]
  },
  {
   "cell_type": "code",
   "execution_count": 35,
   "id": "9cec314b",
   "metadata": {},
   "outputs": [
    {
     "data": {
      "text/plain": [
       "2"
      ]
     },
     "execution_count": 35,
     "metadata": {},
     "output_type": "execute_result"
    }
   ],
   "source": [
    "bunnyEars_iterativ(2)"
   ]
  },
  {
   "cell_type": "code",
   "execution_count": 36,
   "id": "ac0ac4ff",
   "metadata": {},
   "outputs": [
    {
     "data": {
      "text/plain": [
       "2"
      ]
     },
     "execution_count": 36,
     "metadata": {},
     "output_type": "execute_result"
    }
   ],
   "source": [
    "bunnyEars_iterativ(1)"
   ]
  },
  {
   "cell_type": "code",
   "execution_count": 37,
   "id": "8f2717fa",
   "metadata": {},
   "outputs": [],
   "source": [
    "#zero ist raus weil the condition is > 0 und nicht >=0\n",
    "bunnyEars_iterativ(0)"
   ]
  },
  {
   "cell_type": "code",
   "execution_count": null,
   "id": "8d3a8153",
   "metadata": {},
   "outputs": [],
   "source": []
  }
 ],
 "metadata": {
  "kernelspec": {
   "display_name": "Python 3 (ipykernel)",
   "language": "python",
   "name": "python3"
  },
  "language_info": {
   "codemirror_mode": {
    "name": "ipython",
    "version": 3
   },
   "file_extension": ".py",
   "mimetype": "text/x-python",
   "name": "python",
   "nbconvert_exporter": "python",
   "pygments_lexer": "ipython3",
   "version": "3.9.13"
  }
 },
 "nbformat": 4,
 "nbformat_minor": 5
}
