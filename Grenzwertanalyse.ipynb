{
 "cells": [
  {
   "cell_type": "markdown",
   "id": "d7f5d71f",
   "metadata": {},
   "source": [
    "## L: Grenzwertanalyse durchführen "
   ]
  },
  {
   "cell_type": "markdown",
   "id": "44a0a008",
   "metadata": {},
   "source": [
    "Für ein Zeiterfassungsprogramm soll eine Python-Funktion entwickelt werden, die aus eingegebener Stundenzahl und einem Stundensatz die entstandenen Kosten berechnet: berechne_lohn(wochenarbeitszeit, stundenlohnInEuro) \n",
    "\n",
    "Die angefallenen Zeiten werden wöchentlich erfasst. Die Regelarbeitzeit pro Tag beträgt 8 Stunden. In einer Woche darf die Regelarbeitzeit um maximal 10% überschritten werden. Jede angefangene Stunde wird dabei als volle Stunde gezählt. \n",
    "\n",
    "Führen Sie eine Grenzwertanalyse für den Parameter wochenarbeitszeit durch und notieren Sie mögliche Testwerte inkl. erwartetem Ergebnis. Gehen Sie davon aus, dass der Stundenlohn bei jedem Test 10,00 beträgt.   \n",
    "\n",
    "• Ziel ist - wie immer - eine möglichst robuste Funktion zu verfassen. \n",
    "\n",
    "• Die Anzahl der Zeilen gibt keinen Aufschluss darüber, wie viele Testfälle mindestens nötig sind. "
   ]
  },
  {
   "cell_type": "markdown",
   "id": "e9bc584c",
   "metadata": {},
   "source": [
    "#### Notiz: \n",
    "\n",
    "Die Funktion berechne_lohn nimmt zwei Parameter entgegen: wochenarbeitszeit und stundenlohnInEuro.\n",
    "\n",
    "Die *try-Anweisung* gibt an, dass Operationen ausgeführt werden, die Ausnahmen auslösen können, und es wird ein Codeblock bereitgestellt, um diese Ausnahmen abzufangen und zu behandeln.\n",
    "\n",
    "Innerhalb des try-Blocks werden folgende Validierungen und Berechnungen durchgeführt:\n",
    "\n",
    "Wenn wochenarbeitszeit oder stundenlohnInEuro kleiner als Null sind, wird eine ValueError-Ausnahme mit einer Nachricht ausgelöst, die darauf hinweist, dass das untere Grenzwert unterschritten wurde.\n",
    "\n",
    "Wenn wochenarbeitszeit größer 44 ist, wird eine ValueError-Ausnahme mit einer Nachricht ausgelöst, die darauf hinweist, dass das obere Grenzwert überschritten wurde (40 Stunden plus 10 %).\n",
    "\n",
    "Wenn wochenarbeitszeit kleiner als -1 ist, wird eine ValueError-Ausnahme mit einer Nachricht ausgelöst, die darauf hinweist, dass das untere Grenzwert unterschritten wurde.\n",
    "\n",
    "Wenn wochenarbeitszeit vom Typ str ist, wird eine TypeError-Ausnahme mit einer Nachricht ausgelöst, die darauf hinweist, dass ein anderer Typ erwartet wird und eine zusätzliche Erklärung bereitgestellt wird.\n",
    "\n",
    "Wenn alle Validierungen erfolgreich sind, wird der Lohn berechnet, indem wochenarbeitszeit mit stundenlohnInEuro multipliziert und in der Variablen result gespeichert wird.\n",
    "\n",
    "Der Wert von result wird mit der Nachricht \"Resultat:\" ausgegeben.\n",
    "\n",
    "Schließlich wird result zurückgegeben.\n",
    "\n",
    "Wenn eine ValueError-Ausnahme auftritt, wird sie abgefangen und eine entsprechende Fehlermeldung mit dem spezifischen Ausnahmemessage (ValueError) ausgegeben.\n",
    "\n",
    "Wenn eine TypeError-Ausnahme auftritt, wird sie abgefangen und eine entsprechende Fehlermeldung mit dem spezifischen Ausnahmemessage (TypeError) ausgegeben.\n",
    "\n",
    "Zusammenfassend überprüft die Funktion berechne_lohn verschiedene Fehlerfälle und behandelt sie, um sicherzustellen, dass die Eingabewerte gültig sind. Anschließend wird der Lohn berechnet und zurückgegeben. Tritt eine Ausnahme auf, wird sie abgefangen und eine entsprechende Fehlermeldung ausgegeben."
   ]
  },
  {
   "cell_type": "code",
   "execution_count": 2,
   "id": "35db5d4a",
   "metadata": {},
   "outputs": [],
   "source": [
    "def berechne_lohn(wochenarbeitszeit, stundenlohnInEuro):\n",
    "    try:\n",
    "        if wochenarbeitszeit < 0 or stundenlohnInEuro < 0:        \n",
    "            raise ValueError('Untergrenze unterschritten.')          \n",
    "        \n",
    "        if wochenarbeitszeit > 44:        \n",
    "            raise ValueError('Obergrenze überschritten (40 Stunden + 10%)')\n",
    "        \n",
    "        if wochenarbeitszeit < -1:        \n",
    "            raise ValueError('Unterschreitung der Untergrenze') \n",
    "    \n",
    "        if isinstance(wochenarbeitszeit, str):      \n",
    "            raise TypeError('Einmaliger Test für Typ sollte ausreichen, denn wenn die Entwicklung auf Typenfehler hingewiesen wird, sollte Sie überprüfen ob der erwartete Typ vorliegt wodurch alle anderen Typen unmöglich würden')\n",
    "        \n",
    "        result = wochenarbeitszeit * stundenlohnInEuro\n",
    "        print(\"Result:\", result)\n",
    "        return result\n",
    "    except ValueError as ve:\n",
    "        print(\"ValueError:\", str(ve))\n",
    "    except TypeError as te:\n",
    "        print(\"TypeError:\", str(te))"
   ]
  },
  {
   "cell_type": "code",
   "execution_count": 3,
   "id": "83d7c076",
   "metadata": {},
   "outputs": [
    {
     "name": "stdout",
     "output_type": "stream",
     "text": [
      "Result: 0\n"
     ]
    },
    {
     "data": {
      "text/plain": [
       "0"
      ]
     },
     "execution_count": 3,
     "metadata": {},
     "output_type": "execute_result"
    }
   ],
   "source": [
    "berechne_lohn(0,10)"
   ]
  },
  {
   "cell_type": "code",
   "execution_count": 4,
   "id": "fafaa4b5",
   "metadata": {},
   "outputs": [
    {
     "name": "stdout",
     "output_type": "stream",
     "text": [
      "Result: 440\n"
     ]
    },
    {
     "data": {
      "text/plain": [
       "440"
      ]
     },
     "execution_count": 4,
     "metadata": {},
     "output_type": "execute_result"
    }
   ],
   "source": [
    "berechne_lohn(44,10)"
   ]
  },
  {
   "cell_type": "code",
   "execution_count": 24,
   "id": "4d486e32",
   "metadata": {},
   "outputs": [
    {
     "name": "stdout",
     "output_type": "stream",
     "text": [
      "ValueError: Untergrenze unterschritten.\n"
     ]
    }
   ],
   "source": [
    "berechne_lohn(-1,10)"
   ]
  },
  {
   "cell_type": "code",
   "execution_count": 6,
   "id": "38c24a88",
   "metadata": {},
   "outputs": [
    {
     "name": "stdout",
     "output_type": "stream",
     "text": [
      "ValueError: Obergrenze überschritten (40 Stunden + 10%)\n"
     ]
    }
   ],
   "source": [
    "berechne_lohn(45,10)"
   ]
  },
  {
   "cell_type": "code",
   "execution_count": 26,
   "id": "feb5c44b",
   "metadata": {},
   "outputs": [
    {
     "name": "stdout",
     "output_type": "stream",
     "text": [
      "TypeError: '<' not supported between instances of 'str' and 'int'\n"
     ]
    }
   ],
   "source": [
    "berechne_lohn(str('a'),10)"
   ]
  },
  {
   "cell_type": "markdown",
   "id": "fb4fa712",
   "metadata": {},
   "source": [
    "## TypeError\n",
    "('Einmaliger Test für Typ sollte ausreichen, denn wenn die Entwicklung auf Typenfehler hingewiesen wird, sollte Sie überprüfen ob der erwartete Typ vorliegt wodurch alle anderen Typen unmöglich würden')"
   ]
  },
  {
   "cell_type": "markdown",
   "id": "aaa57d33",
   "metadata": {},
   "source": [
    "#### testing the function "
   ]
  },
  {
   "cell_type": "code",
   "execution_count": 7,
   "id": "715db4ff",
   "metadata": {},
   "outputs": [
    {
     "name": "stdout",
     "output_type": "stream",
     "text": [
      "Result: 430\n"
     ]
    },
    {
     "data": {
      "text/plain": [
       "430"
      ]
     },
     "execution_count": 7,
     "metadata": {},
     "output_type": "execute_result"
    }
   ],
   "source": [
    "berechne_lohn(43,10)"
   ]
  },
  {
   "cell_type": "code",
   "execution_count": 8,
   "id": "60de0abd",
   "metadata": {},
   "outputs": [
    {
     "name": "stdout",
     "output_type": "stream",
     "text": [
      "Result: 420\n"
     ]
    },
    {
     "data": {
      "text/plain": [
       "420"
      ]
     },
     "execution_count": 8,
     "metadata": {},
     "output_type": "execute_result"
    }
   ],
   "source": [
    "berechne_lohn(42,10)"
   ]
  },
  {
   "cell_type": "code",
   "execution_count": 29,
   "id": "8eeb3b1f",
   "metadata": {},
   "outputs": [
    {
     "name": "stdout",
     "output_type": "stream",
     "text": [
      "Result: 410\n"
     ]
    },
    {
     "data": {
      "text/plain": [
       "410"
      ]
     },
     "execution_count": 29,
     "metadata": {},
     "output_type": "execute_result"
    }
   ],
   "source": [
    "berechne_lohn(41,10)"
   ]
  }
 ],
 "metadata": {
  "kernelspec": {
   "display_name": "Python 3 (ipykernel)",
   "language": "python",
   "name": "python3"
  },
  "language_info": {
   "codemirror_mode": {
    "name": "ipython",
    "version": 3
   },
   "file_extension": ".py",
   "mimetype": "text/x-python",
   "name": "python",
   "nbconvert_exporter": "python",
   "pygments_lexer": "ipython3",
   "version": "3.9.13"
  }
 },
 "nbformat": 4,
 "nbformat_minor": 5
}
